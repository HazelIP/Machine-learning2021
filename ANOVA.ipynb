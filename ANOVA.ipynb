{
 "cells": [
  {
   "cell_type": "markdown",
   "id": "b33b3e09-4b32-4f24-8734-46d2b04b77a2",
   "metadata": {},
   "source": [
    "# ML - Scipy Stats\n",
    "Scipy Stats notebook:　overview of the library + 1 hypothesis testing using ANOVA + plots (40%)"
   ]
  },
  {
   "cell_type": "markdown",
   "id": "244df04b-f91d-41dd-911f-0767aacb65eb",
   "metadata": {},
   "source": [
    "## Overview of Scipy Stats library"
   ]
  },
  {
   "cell_type": "code",
   "execution_count": null,
   "id": "bb4c303c-4526-45bc-b536-c2ecdbe7b31c",
   "metadata": {},
   "outputs": [],
   "source": []
  },
  {
   "cell_type": "code",
   "execution_count": null,
   "id": "47a6dcbc-109a-41e7-bcc8-36a550cc39cc",
   "metadata": {},
   "outputs": [],
   "source": []
  },
  {
   "cell_type": "code",
   "execution_count": null,
   "id": "631da19a-f0d2-4152-96c9-80a6d598c908",
   "metadata": {},
   "outputs": [],
   "source": []
  },
  {
   "cell_type": "markdown",
   "id": "d7cb9a3e-86e0-41f0-8672-893149590feb",
   "metadata": {},
   "source": [
    "## 1 hypothesis testing using ANOVA + plots"
   ]
  },
  {
   "cell_type": "code",
   "execution_count": null,
   "id": "2e45ddf5-13b6-487b-9d40-5af6ebc58825",
   "metadata": {},
   "outputs": [],
   "source": []
  },
  {
   "cell_type": "code",
   "execution_count": null,
   "id": "40667823-dc72-4a1e-b352-6403129af5cf",
   "metadata": {},
   "outputs": [],
   "source": []
  },
  {
   "cell_type": "code",
   "execution_count": null,
   "id": "f567d5ba-c089-4d16-9c6c-b8f44d1a769f",
   "metadata": {},
   "outputs": [],
   "source": []
  }
 ],
 "metadata": {
  "kernelspec": {
   "display_name": "Python 3",
   "language": "python",
   "name": "python3"
  },
  "language_info": {
   "codemirror_mode": {
    "name": "ipython",
    "version": 3
   },
   "file_extension": ".py",
   "mimetype": "text/x-python",
   "name": "python",
   "nbconvert_exporter": "python",
   "pygments_lexer": "ipython3",
   "version": "3.8.8"
  }
 },
 "nbformat": 4,
 "nbformat_minor": 5
}
