{
 "cells": [
  {
   "cell_type": "markdown",
   "id": "b33b3e09-4b32-4f24-8734-46d2b04b77a2",
   "metadata": {},
   "source": [
    "# SciPy stats Notebook\n",
    "***"
   ]
  },
  {
   "cell_type": "markdown",
   "id": "244df04b-f91d-41dd-911f-0767aacb65eb",
   "metadata": {},
   "source": [
    "# Overview of Scipy Stats library"
   ]
  },
  {
   "cell_type": "markdown",
   "id": "2cb02ed5-2927-40c9-a36a-1ddd573cd0c9",
   "metadata": {},
   "source": [
    "[Scipy.stats](https://docs.scipy.org/doc/scipy/reference/stats.html) is a module in SciPy dedicated for statistical functions. \n",
    "\n",
    "It is divided into 9 parts as follows ...\n",
    "1. Probability distribution\n",
    "2. Summary statistics\n",
    "3. Frequency statistics\n",
    "4. Correlation functions: f_oneway(*args[, axis]) Perform one-way ANOVA.\n",
    "5. Statistical tests\n",
    "6. Masked statistics\n",
    "7. Other statistical functions\n",
    "8. Quasi-Monte Carlo functionality\n",
    "9. Random variate generation"
   ]
  },
  {
   "cell_type": "markdown",
   "id": "c808ca06",
   "metadata": {},
   "source": [
    "The module consists of a large number of probability distribution for both continuous and discrete variables, and can work with different types of distributions like the binomial, uniform, and continuous. It also allows user to perform a range of statistical test, for example, T-test, ANOVA, Pearson's r, chi-square test and a lot more. "
   ]
  },
  {
   "cell_type": "markdown",
   "id": "58bad63a-22a9-4a0d-8b2b-baedbd4278b9",
   "metadata": {},
   "source": [
    "# What is ANOVA?\n",
    "ANOVA, which stands for Analysis of Variance, is a statistical test for analyzing if there is statistically significant difference between the means of **three or more groups**. One-way ANOVA is used when there is one independent variable, while a two-way ANOVA is used for two independent variables.\n",
    "\n",
    "However ANOVA does not tell us which specific groups are significantly different from each other. Post hoc tests are needed to investigate where the significant difference lies. For data that meets the assumption of homogeneity of variances, Tukey's honestly significant difference (HSD) post hoc test would be a great option.  For data with unequal variances, Games Howell post hoc test can be used [[1]](https://statistics.laerd.com/statistical-guides/one-way-anova-statistical-guide.php). \n",
    "\n",
    "At the moment Scipy.stats module does not have the function to perform Tukey's HSD post hoc test, [statsmodels](https://www.statsmodels.org/dev/generated/statsmodels.stats.multicomp.pairwise_tukeyhsd.html) is one of the modules that allow users to do so. However, SciPy has put it into the development road map, hopefully tukey_hsd will soon be available in its coming release [[2]](https://scipy.github.io/devdocs/reference/generated/scipy.stats.tukey_hsd.html?highlight=tukey_hsd#scipy.stats.tukey_hsd). "
   ]
  },
  {
   "cell_type": "markdown",
   "id": "302ae2cd-5d2a-4cd4-b51b-c18755c8650b",
   "metadata": {},
   "source": [
    "## The assumptions of ANOVA \n",
    "\n",
    "According to [Laerd Statistics](https://statistics.laerd.com/spss-tutorials/one-way-anova-using-spss-statistics.php), there are 6 assumptions that the data to be analyzed should meet in order to derive a valid conclusion from the data. \n",
    "\n",
    "1. Dependent variable at interval or ratio level \n",
    "2. IV should consist of 2 or more categorical, independent groups\n",
    "3. Independence of observations, not repeatedly measures\n",
    "4. No significant outliers, as outlier reduces validity\n",
    "5. Dependent variable should be approximately normally distributed for each category of independent variable (shapiro-wilk test of normality)\n",
    "6. homogeneity of variances (Levene's test)\n"
   ]
  },
  {
   "cell_type": "markdown",
   "id": "427257ec-58d9-4578-ad8e-6b5241f83038",
   "metadata": {},
   "source": [
    "# The Dataset and hypotheis"
   ]
  },
  {
   "cell_type": "markdown",
   "id": "00d36c29-01f9-492b-a07f-bb812b4b843f",
   "metadata": {},
   "source": [
    "### The dataset\n",
    "\n",
    "The dataset is from an imaginary crop yield experiment adopted from [here](https://www.scribbr.com/statistics/one-way-anova/). There are 4 variables in the dataset, planting location (block 1, 2, 3, 4), planting density (1=low, 2=high), types of fertilizer used(type 1,2,3), and crop yield per acre. I am interested in if there is statistically significant differences in yield of the 3 types of fertilizer. "
   ]
  },
  {
   "cell_type": "markdown",
   "id": "51ff33c1-4412-4f57-ab40-9c6162fd6d5d",
   "metadata": {},
   "source": [
    "### The hypothesis\n",
    "H0: There is no significant difference between the means between yield of the 3 types of fertilizer. <br>\n",
    "H1: There is significant difference between the means of yield between the 3 types of fertilizer. "
   ]
  },
  {
   "cell_type": "markdown",
   "id": "4a011db1",
   "metadata": {},
   "source": [
    "#### Importing necessary packages"
   ]
  },
  {
   "cell_type": "code",
   "execution_count": 1,
   "id": "4553f3ca-0f85-4b7e-820d-f95297b0a33e",
   "metadata": {},
   "outputs": [
    {
     "data": {
      "text/html": [
       "<div>\n",
       "<style scoped>\n",
       "    .dataframe tbody tr th:only-of-type {\n",
       "        vertical-align: middle;\n",
       "    }\n",
       "\n",
       "    .dataframe tbody tr th {\n",
       "        vertical-align: top;\n",
       "    }\n",
       "\n",
       "    .dataframe thead th {\n",
       "        text-align: right;\n",
       "    }\n",
       "</style>\n",
       "<table border=\"1\" class=\"dataframe\">\n",
       "  <thead>\n",
       "    <tr style=\"text-align: right;\">\n",
       "      <th></th>\n",
       "      <th>density</th>\n",
       "      <th>block</th>\n",
       "      <th>fertilizer</th>\n",
       "      <th>yield</th>\n",
       "    </tr>\n",
       "  </thead>\n",
       "  <tbody>\n",
       "    <tr>\n",
       "      <th>0</th>\n",
       "      <td>1</td>\n",
       "      <td>1</td>\n",
       "      <td>1</td>\n",
       "      <td>177.228692</td>\n",
       "    </tr>\n",
       "    <tr>\n",
       "      <th>1</th>\n",
       "      <td>2</td>\n",
       "      <td>2</td>\n",
       "      <td>1</td>\n",
       "      <td>177.550041</td>\n",
       "    </tr>\n",
       "    <tr>\n",
       "      <th>2</th>\n",
       "      <td>1</td>\n",
       "      <td>3</td>\n",
       "      <td>1</td>\n",
       "      <td>176.408462</td>\n",
       "    </tr>\n",
       "    <tr>\n",
       "      <th>3</th>\n",
       "      <td>2</td>\n",
       "      <td>4</td>\n",
       "      <td>1</td>\n",
       "      <td>177.703625</td>\n",
       "    </tr>\n",
       "    <tr>\n",
       "      <th>4</th>\n",
       "      <td>1</td>\n",
       "      <td>1</td>\n",
       "      <td>1</td>\n",
       "      <td>177.125486</td>\n",
       "    </tr>\n",
       "    <tr>\n",
       "      <th>...</th>\n",
       "      <td>...</td>\n",
       "      <td>...</td>\n",
       "      <td>...</td>\n",
       "      <td>...</td>\n",
       "    </tr>\n",
       "    <tr>\n",
       "      <th>91</th>\n",
       "      <td>2</td>\n",
       "      <td>4</td>\n",
       "      <td>3</td>\n",
       "      <td>177.405292</td>\n",
       "    </tr>\n",
       "    <tr>\n",
       "      <th>92</th>\n",
       "      <td>1</td>\n",
       "      <td>1</td>\n",
       "      <td>3</td>\n",
       "      <td>178.141644</td>\n",
       "    </tr>\n",
       "    <tr>\n",
       "      <th>93</th>\n",
       "      <td>2</td>\n",
       "      <td>2</td>\n",
       "      <td>3</td>\n",
       "      <td>177.710613</td>\n",
       "    </tr>\n",
       "    <tr>\n",
       "      <th>94</th>\n",
       "      <td>1</td>\n",
       "      <td>3</td>\n",
       "      <td>3</td>\n",
       "      <td>177.687264</td>\n",
       "    </tr>\n",
       "    <tr>\n",
       "      <th>95</th>\n",
       "      <td>2</td>\n",
       "      <td>4</td>\n",
       "      <td>3</td>\n",
       "      <td>177.118176</td>\n",
       "    </tr>\n",
       "  </tbody>\n",
       "</table>\n",
       "<p>96 rows × 4 columns</p>\n",
       "</div>"
      ],
      "text/plain": [
       "    density  block  fertilizer       yield\n",
       "0         1      1           1  177.228692\n",
       "1         2      2           1  177.550041\n",
       "2         1      3           1  176.408462\n",
       "3         2      4           1  177.703625\n",
       "4         1      1           1  177.125486\n",
       "..      ...    ...         ...         ...\n",
       "91        2      4           3  177.405292\n",
       "92        1      1           3  178.141644\n",
       "93        2      2           3  177.710613\n",
       "94        1      3           3  177.687264\n",
       "95        2      4           3  177.118176\n",
       "\n",
       "[96 rows x 4 columns]"
      ]
     },
     "execution_count": 1,
     "metadata": {},
     "output_type": "execute_result"
    }
   ],
   "source": [
    "import pandas as pd\n",
    "import scipy.stats as stats\n",
    "import seaborn as sns\n",
    "\n",
    "df = pd.read_csv('crop_data.csv')\n",
    "# have a look of the data frame\n",
    "df"
   ]
  },
  {
   "cell_type": "markdown",
   "id": "899d9e66-b2c3-43c4-80a3-009dec6e4fac",
   "metadata": {},
   "source": []
  },
  {
   "cell_type": "markdown",
   "id": "ea93a019-3faa-477d-9aab-a49b33e5bfc4",
   "metadata": {},
   "source": [
    "# Check if the data fits the 6 assumptions of ANOVA"
   ]
  },
  {
   "cell_type": "markdown",
   "id": "21b31689-f208-463e-92c4-c353d56222d1",
   "metadata": {},
   "source": [
    "#### Assumption 1 - Dependent variable at interval or ratio level \n",
    "In this case the dependent variable is yield, and have a look of its descriptive statistics."
   ]
  },
  {
   "cell_type": "code",
   "execution_count": 2,
   "id": "479fa3b7-fca0-4fd7-b6b4-118a309a21c1",
   "metadata": {},
   "outputs": [
    {
     "data": {
      "text/plain": [
       "count     96.000000\n",
       "mean     177.015476\n",
       "std        0.664548\n",
       "min      175.360840\n",
       "25%      176.468696\n",
       "50%      177.058105\n",
       "75%      177.398571\n",
       "max      179.060899\n",
       "Name: yield, dtype: float64"
      ]
     },
     "execution_count": 2,
     "metadata": {},
     "output_type": "execute_result"
    }
   ],
   "source": [
    "# set the dependent variable as yield\n",
    "dependent = df['yield']\n",
    "dependent.describe()"
   ]
  },
  {
   "cell_type": "markdown",
   "id": "5ff06711-1611-4afb-9986-496ad9ff1a78",
   "metadata": {},
   "source": [
    "#### Assumption 2 - Independent variable should consist of 2 or more categorical, independent group\n",
    "In this case the independent variable is types of fertilizer and there are 3 types."
   ]
  },
  {
   "cell_type": "code",
   "execution_count": 3,
   "id": "17eda59b-f8c7-4971-90e0-c9eca0667786",
   "metadata": {},
   "outputs": [
    {
     "data": {
      "text/plain": [
       "array([1, 2, 3], dtype=int64)"
      ]
     },
     "execution_count": 3,
     "metadata": {},
     "output_type": "execute_result"
    }
   ],
   "source": [
    "# show number of fertilizers in the df\n",
    "df.fertilizer.unique()"
   ]
  },
  {
   "cell_type": "code",
   "execution_count": 4,
   "id": "9df72b74-687b-484e-88cc-a44a0badeeec",
   "metadata": {},
   "outputs": [
    {
     "data": {
      "text/plain": [
       "0     1\n",
       "1     1\n",
       "2     1\n",
       "3     1\n",
       "4     1\n",
       "     ..\n",
       "91    3\n",
       "92    3\n",
       "93    3\n",
       "94    3\n",
       "95    3\n",
       "Name: fertilizer, Length: 96, dtype: object"
      ]
     },
     "execution_count": 4,
     "metadata": {},
     "output_type": "execute_result"
    }
   ],
   "source": [
    "# convert the list of int to str for later use\n",
    "fertilizer = df['fertilizer'].astype('str')\n",
    "fertilizer"
   ]
  },
  {
   "cell_type": "code",
   "execution_count": 5,
   "id": "f1c6bdc4-8818-4b2b-b3a4-08095c341166",
   "metadata": {},
   "outputs": [
    {
     "data": {
      "text/plain": [
       "1    32\n",
       "2    32\n",
       "3    32\n",
       "Name: fertilizer, dtype: int64"
      ]
     },
     "execution_count": 5,
     "metadata": {},
     "output_type": "execute_result"
    }
   ],
   "source": [
    "# set independent variable as fertilizer\n",
    "independent = fertilizer\n",
    "independent.value_counts()"
   ]
  },
  {
   "cell_type": "markdown",
   "id": "6c900c42-fa33-4f61-a80d-37fe05d8367a",
   "metadata": {},
   "source": [
    "#### Assumption 3 - Independence of observations\n",
    "It is an issue related to experiment design and cannot be proven through statistical test. In this case there is no relationship between the observations in each group or between the groups themselves."
   ]
  },
  {
   "cell_type": "markdown",
   "id": "77f78c7c-db8f-4a00-b333-87877efd6491",
   "metadata": {},
   "source": [
    "#### Assumption 4 - outlier\n",
    "Boxplot will be used to show if there is any outlier. "
   ]
  },
  {
   "cell_type": "code",
   "execution_count": 6,
   "id": "b8004b99-a564-4763-b427-6308b463dd1f",
   "metadata": {},
   "outputs": [
    {
     "data": {
      "text/plain": [
       "<AxesSubplot:xlabel='yield', ylabel='fertilizer'>"
      ]
     },
     "execution_count": 6,
     "metadata": {},
     "output_type": "execute_result"
    },
    {
     "data": {
      "image/png": "[encoded data removed]",
      "text/plain": [
       "<Figure size 432x288 with 1 Axes>"
      ]
     },
     "metadata": {
      "needs_background": "light"
     },
     "output_type": "display_data"
    }
   ],
   "source": [
    "# seaborn boxplot to show outlier\n",
    "sns.boxplot(x=dependent, y=independent)"
   ]
  },
  {
   "cell_type": "markdown",
   "id": "068e35b6-8ee9-42c5-ae78-5ff855774365",
   "metadata": {},
   "source": [
    "There is 1 outlier in fertilizer 3. Let's see if that would cause a problem in the distribution normality assumption. "
   ]
  },
  {
   "cell_type": "markdown",
   "id": "43de4dca-a116-4fe9-952e-474867439f34",
   "metadata": {},
   "source": [
    "#### Assumption 5 - Normality\n",
    "Dependent variable should be approximately normally distributed for each category of independent variable. Shapiro-Wilk test will be used to test for all 3 types of fertilizer."
   ]
  },
  {
   "cell_type": "code",
   "execution_count": 7,
   "id": "1b9f72a6-6c28-4e7c-a902-415fd4ad3446",
   "metadata": {},
   "outputs": [
    {
     "data": {
      "text/plain": [
       "<seaborn.axisgrid.FacetGrid at 0x2478f09d700>"
      ]
     },
     "execution_count": 7,
     "metadata": {},
     "output_type": "execute_result"
    },
    {
     "data": {
      "image/png": "[encoded data removed]",
      "text/plain": [
       "<Figure size 409.75x360 with 1 Axes>"
      ]
     },
     "metadata": {
      "needs_background": "light"
     },
     "output_type": "display_data"
    }
   ],
   "source": [
    "# take a look of the distribution of yield of the 3 types of fertilizer\n",
    "# KDEs of the 3 categories\n",
    "sns.displot(x=dependent, hue=independent, kind=\"kde\")"
   ]
  },
  {
   "cell_type": "code",
   "execution_count": 8,
   "id": "7c1a7038-d536-4177-be59-b4aaf985dfec",
   "metadata": {},
   "outputs": [
    {
     "data": {
      "text/plain": [
       "ShapiroResult(statistic=0.9791430234909058, pvalue=0.7743139863014221)"
      ]
     },
     "execution_count": 8,
     "metadata": {},
     "output_type": "execute_result"
    }
   ],
   "source": [
    "# Shapiro-Wilk test for normality for fertilizer 1\n",
    "stats.shapiro(dependent[independent == '1'])"
   ]
  },
  {
   "cell_type": "code",
   "execution_count": 9,
   "id": "b2bc0654-1162-47df-9785-1229b2171ec1",
   "metadata": {},
   "outputs": [
    {
     "data": {
      "text/plain": [
       "ShapiroResult(statistic=0.9832894802093506, pvalue=0.8874866366386414)"
      ]
     },
     "execution_count": 9,
     "metadata": {},
     "output_type": "execute_result"
    }
   ],
   "source": [
    "#run on fertilizer 2\n",
    "stats.shapiro(dependent[independent == \"2\"])"
   ]
  },
  {
   "cell_type": "code",
   "execution_count": 10,
   "id": "19e44c29-9bda-4604-97ca-d7813c7caf0d",
   "metadata": {},
   "outputs": [
    {
     "data": {
      "text/plain": [
       "ShapiroResult(statistic=0.9587748646736145, pvalue=0.25418972969055176)"
      ]
     },
     "execution_count": 10,
     "metadata": {},
     "output_type": "execute_result"
    }
   ],
   "source": [
    "# run on fertilizer 3\n",
    "stats.shapiro(dependent[independent == \"3\"])"
   ]
  },
  {
   "cell_type": "markdown",
   "id": "8398c795-0815-4193-bf7e-c7515ee84085",
   "metadata": {},
   "source": [
    "If the p-value is smaller than 0.05, that means the data is normally distributed.\n",
    "So yield of all 3 types of fertilizer are actually normally distributed."
   ]
  },
  {
   "cell_type": "markdown",
   "id": "838350bb-43a1-4862-94ee-be51db017bb6",
   "metadata": {},
   "source": [
    "#### Assumption 6 - Homogeneity of variances\n",
    "Levene's test will be used to test."
   ]
  },
  {
   "cell_type": "code",
   "execution_count": 11,
   "id": "dfa3818a-1486-4422-8f5d-cc24da9a2ca6",
   "metadata": {},
   "outputs": [
    {
     "data": {
      "text/plain": [
       "LeveneResult(statistic=0.8471814796777352, pvalue=0.43190199882090996)"
      ]
     },
     "execution_count": 11,
     "metadata": {},
     "output_type": "execute_result"
    }
   ],
   "source": [
    "# Test for equal variances using Levene test\n",
    "stats.levene(\n",
    "    dependent[independent == '1'],\n",
    "    dependent[independent == '2'],\n",
    "    dependent[independent == '3']\n",
    ")"
   ]
  },
  {
   "cell_type": "markdown",
   "id": "21646914-866d-4f56-982d-3e148ab4baff",
   "metadata": {},
   "source": [
    "Small p-value (<0.05) suggests that the population do not have equal variances. So the yield of all 3 types of fertilizer have equal variances. "
   ]
  },
  {
   "cell_type": "markdown",
   "id": "0ebcd5de",
   "metadata": {},
   "source": [
    "**Conclusion:** The data meets all the assumptions, we will move on to run ANOVA."
   ]
  },
  {
   "cell_type": "markdown",
   "id": "4d33f92b-8927-434e-940d-b8910effb411",
   "metadata": {},
   "source": [
    "# Running ANOVA"
   ]
  },
  {
   "cell_type": "code",
   "execution_count": 12,
   "id": "2b382337-8e20-41ad-bd61-7c3e709b6140",
   "metadata": {},
   "outputs": [
    {
     "data": {
      "text/plain": [
       "F_onewayResult(statistic=7.862751645215487, pvalue=0.0006999157502874401)"
      ]
     },
     "execution_count": 12,
     "metadata": {},
     "output_type": "execute_result"
    }
   ],
   "source": [
    " # ANOVA\n",
    "stats.f_oneway(dependent[independent == '1'], dependent[independent == '2'], dependent[independent == '3'])"
   ]
  },
  {
   "cell_type": "markdown",
   "id": "45222631-6d82-4269-9960-6bcfa9e68705",
   "metadata": {},
   "source": [
    "**Conclusion**: p-value is less than 0.05, meaning the means of yield between the 3 fertilizers used are different. So we reject the null hypothesis. "
   ]
  },
  {
   "cell_type": "markdown",
   "id": "4ba21fb4-1171-4ee6-aa9b-3c013d8d5ffa",
   "metadata": {},
   "source": [
    "## Post hoc test\n",
    "\n",
    "While ANOVA tells us that there are significant difference in mean yield between the 3 fertilizers, it did not tell us the specifics of which ones are different from the others. So we need to carry out post hoc test to find out. \n",
    "As mentioned at the beginning SciPy does not have the function for Tukey_hsd yet, we will use statsmodels package."
   ]
  },
  {
   "cell_type": "code",
   "execution_count": 13,
   "id": "b2f8cc47-a8c9-44b7-9ff4-4c1aca9a3334",
   "metadata": {},
   "outputs": [
    {
     "name": "stdout",
     "output_type": "stream",
     "text": [
      "Multiple Comparison of Means - Tukey HSD, FWER=0.05\n",
      "===================================================\n",
      "group1 group2 meandiff p-adj   lower  upper  reject\n",
      "---------------------------------------------------\n",
      "     1      2   0.1762 0.4968 -0.1937 0.5461  False\n",
      "     1      3   0.5991  0.001  0.2292  0.969   True\n",
      "     2      3    0.423 0.0209  0.0531 0.7929   True\n",
      "---------------------------------------------------\n"
     ]
    }
   ],
   "source": [
    "from statsmodels.stats.multicomp import pairwise_tukeyhsd\n",
    "tukey = pairwise_tukeyhsd(endog=dependent, groups=independent, alpha=0.05)\n",
    "\n",
    "print(tukey)"
   ]
  },
  {
   "cell_type": "markdown",
   "id": "e52e53fe-14c4-4f25-9d6e-7d84e0c92a6e",
   "metadata": {},
   "source": [
    "**Conclusion:** There are significant differences between the means of yield between fertilizer 1 & 3 and fertilizer 2 & 3."
   ]
  },
  {
   "cell_type": "markdown",
   "id": "6ec3736e-b76f-4d25-8550-73ee53c309a7",
   "metadata": {},
   "source": [
    "## Reference\n",
    "***\n",
    "[1] https://docs.scipy.org/doc/scipy/reference/stats.html#correlation-functions <br>\n",
    "[2] https://statistics.laerd.com/spss-tutorials/one-way-anova-using-spss-statistics.php <br>\n",
    "[3] https://data-flair.training/blogs/scipy-statistical-functions/ <br>\n",
    "[4] https://www.statsmodels.org/dev/generated/statsmodels.stats.multicomp.pairwise_tukeyhsd.html <br>"
   ]
  },
  {
   "cell_type": "markdown",
   "id": "5ba9f22c-fde6-4a0d-a09b-b0ac0f62296a",
   "metadata": {},
   "source": [
    "# END"
   ]
  }
 ],
 "metadata": {
  "kernelspec": {
   "display_name": "Python 3",
   "language": "python",
   "name": "python3"
  },
  "language_info": {
   "codemirror_mode": {
    "name": "ipython",
    "version": 3
   },
   "file_extension": ".py",
   "mimetype": "text/x-python",
   "name": "python",
   "nbconvert_exporter": "python",
   "pygments_lexer": "ipython3",
   "version": "3.8.8"
  }
 },
 "nbformat": 4,
 "nbformat_minor": 5
}
