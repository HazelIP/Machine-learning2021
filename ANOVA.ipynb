{
 "cells": [
  {
   "cell_type": "markdown",
   "id": "b33b3e09-4b32-4f24-8734-46d2b04b77a2",
   "metadata": {},
   "source": [
    "# SciPy stats Notebook"
   ]
  },
  {
   "cell_type": "markdown",
   "id": "244df04b-f91d-41dd-911f-0767aacb65eb",
   "metadata": {},
   "source": [
    "## Overview of Scipy Stats library\n",
    "https://docs.scipy.org/doc/scipy/reference/stats.html"
   ]
  },
  {
   "cell_type": "markdown",
   "id": "2cb02ed5-2927-40c9-a36a-1ddd573cd0c9",
   "metadata": {},
   "source": [
    "This module contains a large number of probability distributions, summary and frequency statistics, correlation functions and statistical tests, masked statistics, kernel density estimation, quasi-Monte Carlo functionality, and more.\n",
    "1. probability distribution\n",
    "2. summary statistics\n",
    "3. frequency statistics\n",
    "4. Correlation functions: f_oneway(*args[, axis]) Perform one-way ANOVA.\n",
    "5. Statistical tests"
   ]
  },
  {
   "cell_type": "code",
   "execution_count": null,
   "id": "47a6dcbc-109a-41e7-bcc8-36a550cc39cc",
   "metadata": {},
   "outputs": [],
   "source": []
  },
  {
   "cell_type": "markdown",
   "id": "58bad63a-22a9-4a0d-8b2b-baedbd4278b9",
   "metadata": {},
   "source": [
    "# What is ANOVA?\n",
    "ANOVA, which stands for Analysis of Variance, is a statistical test for analyzing if there is statistically significant difference between the means of **three or more groups**. One-way ANOVA is used when there is one independent variable, while a two-way ANOVA is used for two independent variables.\n",
    "\n",
    "However ANOVA does not tell us which specific groups are significantly different from each other. Post hoc tests are needed to investigate where the significant difference lies. For data that meets the assumption of homogeneity of variances, Tukey's honestly significant difference (HSD) post hoc test would be a great option.  For data with unequal variances, Games Howell post hoc test can be used. \n",
    "ref:[https://statistics.laerd.com/statistical-guides/one-way-anova-statistical-guide.php]\n",
    "\n",
    "At the moment Scipy.stats module does not have the function to perform Tukey's HSD post hoc test, statsmodels is one of the modules that allow users to do so. However, SciPy has put it into the development road map, hopefully tukey_hsd will soon be available in its coming release. \n",
    "\n",
    "https://www.statsmodels.org/dev/generated/statsmodels.stats.multicomp.pairwise_tukeyhsd.html\n",
    "\n",
    "https://scipy.github.io/devdocs/reference/generated/scipy.stats.tukey_hsd.html?highlight=tukey_hsd#scipy.stats.tukey_hsd"
   ]
  },
  {
   "cell_type": "markdown",
   "id": "302ae2cd-5d2a-4cd4-b51b-c18755c8650b",
   "metadata": {},
   "source": [
    "## The assumption of ANOVA (ref from laerd)\n",
    "1. Dependent variable at interval or ratio level \n",
    "2. IV should consist of 2 or more categorical, independent group \n",
    "3. independence of observations, not repeatedly measures\n",
    "4. no significant outliers, as outlier reduces validity\n",
    "5. DV should be approximately normally distributed for each category of IV; shapiro-wilk test of normality\n",
    "6. homogeneity of variances; Levene's test\n"
   ]
  },
  {
   "cell_type": "markdown",
   "id": "427257ec-58d9-4578-ad8e-6b5241f83038",
   "metadata": {},
   "source": [
    "# The Dataset and hypotheis"
   ]
  },
  {
   "cell_type": "markdown",
   "id": "00d36c29-01f9-492b-a07f-bb812b4b843f",
   "metadata": {},
   "source": [
    "### The dataset\n",
    "The dataset is from an imaginary crop yield experiment adopted from [link]. \n",
    "\n",
    "There are 4 variables in the dataset, planting location (block 1,2,3,4), planting density (1=low, 2=high), types of fertilizer used(type 1,2,3), and crop yield per acre. \n",
    "\n",
    "I am interested in if there is statistically significant differences in yield between the 3 types of fertilizer. \n",
    "\n",
    "(https://www.scribbr.com/statistics/one-way-anova/)"
   ]
  },
  {
   "cell_type": "markdown",
   "id": "51ff33c1-4412-4f57-ab40-9c6162fd6d5d",
   "metadata": {},
   "source": [
    "### The hypothesis\n",
    "H0: There is no significant difference between the means of yield of the 3 types of fertilizer. <br>\n",
    "H1: There is significant difference between the means of yield of the 3 types of fertilizer. "
   ]
  },
  {
   "cell_type": "code",
   "execution_count": 2,
   "id": "4553f3ca-0f85-4b7e-820d-f95297b0a33e",
   "metadata": {},
   "outputs": [
    {
     "data": {
      "text/html": [
       "<div>\n",
       "<style scoped>\n",
       "    .dataframe tbody tr th:only-of-type {\n",
       "        vertical-align: middle;\n",
       "    }\n",
       "\n",
       "    .dataframe tbody tr th {\n",
       "        vertical-align: top;\n",
       "    }\n",
       "\n",
       "    .dataframe thead th {\n",
       "        text-align: right;\n",
       "    }\n",
       "</style>\n",
       "<table border=\"1\" class=\"dataframe\">\n",
       "  <thead>\n",
       "    <tr style=\"text-align: right;\">\n",
       "      <th></th>\n",
       "      <th>density</th>\n",
       "      <th>block</th>\n",
       "      <th>fertilizer</th>\n",
       "      <th>yield</th>\n",
       "    </tr>\n",
       "  </thead>\n",
       "  <tbody>\n",
       "    <tr>\n",
       "      <th>0</th>\n",
       "      <td>1</td>\n",
       "      <td>1</td>\n",
       "      <td>1</td>\n",
       "      <td>177.228692</td>\n",
       "    </tr>\n",
       "    <tr>\n",
       "      <th>1</th>\n",
       "      <td>2</td>\n",
       "      <td>2</td>\n",
       "      <td>1</td>\n",
       "      <td>177.550041</td>\n",
       "    </tr>\n",
       "    <tr>\n",
       "      <th>2</th>\n",
       "      <td>1</td>\n",
       "      <td>3</td>\n",
       "      <td>1</td>\n",
       "      <td>176.408462</td>\n",
       "    </tr>\n",
       "    <tr>\n",
       "      <th>3</th>\n",
       "      <td>2</td>\n",
       "      <td>4</td>\n",
       "      <td>1</td>\n",
       "      <td>177.703625</td>\n",
       "    </tr>\n",
       "    <tr>\n",
       "      <th>4</th>\n",
       "      <td>1</td>\n",
       "      <td>1</td>\n",
       "      <td>1</td>\n",
       "      <td>177.125486</td>\n",
       "    </tr>\n",
       "  </tbody>\n",
       "</table>\n",
       "</div>"
      ],
      "text/plain": [
       "   density  block  fertilizer       yield\n",
       "0        1      1           1  177.228692\n",
       "1        2      2           1  177.550041\n",
       "2        1      3           1  176.408462\n",
       "3        2      4           1  177.703625\n",
       "4        1      1           1  177.125486"
      ]
     },
     "execution_count": 2,
     "metadata": {},
     "output_type": "execute_result"
    }
   ],
   "source": [
    "import pandas as pd\n",
    "import scipy.stats as stats\n",
    "import seaborn as sns\n",
    "\n",
    "df = pd.read_csv('crop_data.csv')\n",
    "\n",
    "df.head()"
   ]
  },
  {
   "cell_type": "markdown",
   "id": "899d9e66-b2c3-43c4-80a3-009dec6e4fac",
   "metadata": {},
   "source": []
  },
  {
   "cell_type": "markdown",
   "id": "ea93a019-3faa-477d-9aab-a49b33e5bfc4",
   "metadata": {},
   "source": [
    "### Check if the data fits the assumption of ANOVA"
   ]
  },
  {
   "cell_type": "markdown",
   "id": "21b31689-f208-463e-92c4-c353d56222d1",
   "metadata": {},
   "source": [
    "#### Assumption 1 - Dependent variable at interval or ratio level \n",
    "In this case the dependent variable is yield, and have a look of its descriptive statistics."
   ]
  },
  {
   "cell_type": "code",
   "execution_count": 5,
   "id": "479fa3b7-fca0-4fd7-b6b4-118a309a21c1",
   "metadata": {},
   "outputs": [
    {
     "data": {
      "text/plain": [
       "count     96.000000\n",
       "mean     177.015476\n",
       "std        0.664548\n",
       "min      175.360840\n",
       "25%      176.468696\n",
       "50%      177.058105\n",
       "75%      177.398571\n",
       "max      179.060899\n",
       "Name: yield, dtype: float64"
      ]
     },
     "execution_count": 5,
     "metadata": {},
     "output_type": "execute_result"
    }
   ],
   "source": [
    "# set the dependent variable as yield\n",
    "dependent = df['yield']\n",
    "dependent.describe()"
   ]
  },
  {
   "cell_type": "markdown",
   "id": "6a990533-6c8e-4927-8b84-e6befcb14b54",
   "metadata": {},
   "source": []
  },
  {
   "cell_type": "markdown",
   "id": "5ff06711-1611-4afb-9986-496ad9ff1a78",
   "metadata": {},
   "source": [
    "#### Assumption 2 - Independent variable should consist of 2 or more categorical, independent group\n",
    "In this case the independent variable is type of fertilizer"
   ]
  },
  {
   "cell_type": "code",
   "execution_count": 6,
   "id": "17eda59b-f8c7-4971-90e0-c9eca0667786",
   "metadata": {},
   "outputs": [
    {
     "data": {
      "text/plain": [
       "array([1, 2, 3], dtype=int64)"
      ]
     },
     "execution_count": 6,
     "metadata": {},
     "output_type": "execute_result"
    }
   ],
   "source": [
    "# show number of fertilizers in the df\n",
    "df.fertilizer.unique()"
   ]
  },
  {
   "cell_type": "code",
   "execution_count": 7,
   "id": "9df72b74-687b-484e-88cc-a44a0badeeec",
   "metadata": {},
   "outputs": [
    {
     "data": {
      "text/plain": [
       "0     1\n",
       "1     1\n",
       "2     1\n",
       "3     1\n",
       "4     1\n",
       "     ..\n",
       "91    3\n",
       "92    3\n",
       "93    3\n",
       "94    3\n",
       "95    3\n",
       "Name: fertilizer, Length: 96, dtype: object"
      ]
     },
     "execution_count": 7,
     "metadata": {},
     "output_type": "execute_result"
    }
   ],
   "source": [
    "# convert the list of int to str for later use\n",
    "fertilizer = df['fertilizer'].astype('str')\n",
    "fertilizer"
   ]
  },
  {
   "cell_type": "code",
   "execution_count": 8,
   "id": "f1c6bdc4-8818-4b2b-b3a4-08095c341166",
   "metadata": {},
   "outputs": [
    {
     "data": {
      "text/plain": [
       "2    32\n",
       "1    32\n",
       "3    32\n",
       "Name: fertilizer, dtype: int64"
      ]
     },
     "execution_count": 8,
     "metadata": {},
     "output_type": "execute_result"
    }
   ],
   "source": [
    "# set independent variable as fertilizer\n",
    "independent = fertilizer\n",
    "independent.value_counts()"
   ]
  },
  {
   "cell_type": "markdown",
   "id": "6c900c42-fa33-4f61-a80d-37fe05d8367a",
   "metadata": {},
   "source": [
    "#### Assumption 3 - Experiment design"
   ]
  },
  {
   "cell_type": "markdown",
   "id": "77f78c7c-db8f-4a00-b333-87877efd6491",
   "metadata": {},
   "source": [
    "#### Assumption 4 - outlier"
   ]
  },
  {
   "cell_type": "markdown",
   "id": "43de4dca-a116-4fe9-952e-474867439f34",
   "metadata": {},
   "source": [
    "#### Assumption 5 - Dependent variable should be approximately normally distributed for each category of IV\n",
    "Shapiro-Wilk test will be used to test for all 3 types of fertilizer"
   ]
  },
  {
   "cell_type": "code",
   "execution_count": null,
   "id": "1b9f72a6-6c28-4e7c-a902-415fd4ad3446",
   "metadata": {},
   "outputs": [],
   "source": []
  },
  {
   "cell_type": "markdown",
   "id": "838350bb-43a1-4862-94ee-be51db017bb6",
   "metadata": {},
   "source": [
    "#### Assumption 6 - Homogeneity of variances\n",
    "Levene's test will be used to test."
   ]
  },
  {
   "cell_type": "code",
   "execution_count": null,
   "id": "dfa3818a-1486-4422-8f5d-cc24da9a2ca6",
   "metadata": {},
   "outputs": [],
   "source": []
  },
  {
   "cell_type": "markdown",
   "id": "4d33f92b-8927-434e-940d-b8910effb411",
   "metadata": {},
   "source": [
    "## Running ANOVA"
   ]
  },
  {
   "cell_type": "code",
   "execution_count": null,
   "id": "2b382337-8e20-41ad-bd61-7c3e709b6140",
   "metadata": {},
   "outputs": [],
   "source": []
  },
  {
   "cell_type": "code",
   "execution_count": null,
   "id": "d16023d8-0d7c-4ef6-9866-91ffa8f12dee",
   "metadata": {},
   "outputs": [],
   "source": []
  },
  {
   "cell_type": "markdown",
   "id": "4ba21fb4-1171-4ee6-aa9b-3c013d8d5ffa",
   "metadata": {},
   "source": [
    "## Post hoc test\n",
    "\n",
    "While ANOVA tells us that there are significant difference in mean yield between the 3 fertilizers, it did not tell us the specifics of which ones are different from the others. So we need to carry out post hoc test to find out. \n",
    "As mentioned at the beginning SciPy does not have the function for Tukey_hsd yet, we will use statsmodels module."
   ]
  },
  {
   "cell_type": "code",
   "execution_count": null,
   "id": "b2f8cc47-a8c9-44b7-9ff4-4c1aca9a3334",
   "metadata": {},
   "outputs": [],
   "source": []
  },
  {
   "cell_type": "code",
   "execution_count": null,
   "id": "b7cbc383-3fe1-439b-b8e1-154c4f43c602",
   "metadata": {},
   "outputs": [],
   "source": []
  },
  {
   "cell_type": "markdown",
   "id": "6ec3736e-b76f-4d25-8550-73ee53c309a7",
   "metadata": {},
   "source": [
    "## Reference\n",
    "***\n"
   ]
  },
  {
   "cell_type": "markdown",
   "id": "5ba9f22c-fde6-4a0d-a09b-b0ac0f62296a",
   "metadata": {},
   "source": [
    "# END"
   ]
  },
  {
   "cell_type": "code",
   "execution_count": null,
   "id": "e2fdb91c-e100-4a16-9c8e-da7ccd4d0d86",
   "metadata": {},
   "outputs": [],
   "source": []
  }
 ],
 "metadata": {
  "kernelspec": {
   "display_name": "Python 3",
   "language": "python",
   "name": "python3"
  },
  "language_info": {
   "codemirror_mode": {
    "name": "ipython",
    "version": 3
   },
   "file_extension": ".py",
   "mimetype": "text/x-python",
   "name": "python",
   "nbconvert_exporter": "python",
   "pygments_lexer": "ipython3",
   "version": "3.8.8"
  }
 },
 "nbformat": 4,
 "nbformat_minor": 5
}
